{
 "cells": [
  {
   "cell_type": "code",
   "execution_count": 2,
   "id": "1b458308",
   "metadata": {},
   "outputs": [
    {
     "name": "stdout",
     "output_type": "stream",
     "text": [
      "4 + 5 결과는   9.0 입니다. \n"
     ]
    }
   ],
   "source": [
    "select, answer, numStr, num1, num2 = 0, 0, \"\", 0, 0\n",
    "\n",
    "select = int(input(\"1. 입력한 수식 계산 2. 두 수 사이의 합계: \"))\n",
    "\n",
    "if select ==1:\n",
    "   numStr = input(\" *** 수식을 입력하세요: \")\n",
    "   answer = eval(numStr)\n",
    "   print(\"%s 결과는 %5.1f 입니다. \" % (numStr, answer))\n",
    "elif select == 2:\n",
    "    num1 = int(input(\" *** 첫 번째 숫자를 입력하세요: \"))\n",
    "    num2 = int(input(\" *** 두 번째 숫자를 입력하세요: \"))\n",
    "    for i in range(num1, num2 + 1):\n",
    "        answer = answer + i\n",
    "    print(\"%d+...+%d는 %d입니다. \" % (num1, num2, answer))\n",
    "else:\n",
    "    print(\"1 또는 2만 입력해야 합니다.\")\n",
    "        "
   ]
  },
  {
   "cell_type": "code",
   "execution_count": null,
   "id": "516e8edf",
   "metadata": {},
   "outputs": [
    {
     "name": "stdout",
     "output_type": "stream",
     "text": [
      "55\n"
     ]
    }
   ],
   "source": [
    "i, hap = 0 # 선언을 안하면 (초기화 안하면) 오류\n",
    "\n",
    "for i in range(1, 11, 1):\n",
    "    hap = hap + i\n",
    "    \n",
    "print(hap)"
   ]
  },
  {
   "cell_type": "code",
   "execution_count": 14,
   "id": "8ec5755c",
   "metadata": {},
   "outputs": [
    {
     "name": "stdout",
     "output_type": "stream",
     "text": [
      "1\n",
      "2\n",
      "3\n",
      "4\n",
      "5\n",
      "안녕\n",
      "하세요\n"
     ]
    }
   ],
   "source": [
    "a_list = [1, 2, 3, 4, 5, \"안녕\", \"하세요\"]\n",
    "for i in a_list:\n",
    "    print(i)"
   ]
  },
  {
   "cell_type": "code",
   "execution_count": 16,
   "id": "6210b5bb",
   "metadata": {},
   "outputs": [
    {
     "name": "stdout",
     "output_type": "stream",
     "text": [
      "h\n",
      "e\n",
      "l\n",
      "l\n",
      "o\n",
      " \n",
      "p\n",
      "y\n",
      "t\n",
      "h\n",
      "o\n",
      "n\n"
     ]
    }
   ],
   "source": [
    "a_str = \"hello python\"\n",
    "for i in a_str:\n",
    "    print(i)\n",
    "    "
   ]
  },
  {
   "cell_type": "code",
   "execution_count": 20,
   "id": "03d2e296",
   "metadata": {},
   "outputs": [
    {
     "name": "stdout",
     "output_type": "stream",
     "text": [
      "[0, 5, 10, 15, 20, 25, 30, 35, 40, 45]\n"
     ]
    }
   ],
   "source": [
    "test_list = [i * 5 for i in range(10)]\n",
    "print(test_list)"
   ]
  },
  {
   "cell_type": "code",
   "execution_count": 31,
   "id": "4927492a",
   "metadata": {},
   "outputs": [
    {
     "data": {
      "text/plain": [
       "55"
      ]
     },
     "execution_count": 31,
     "metadata": {},
     "output_type": "execute_result"
    }
   ],
   "source": [
    "i , sum= 0 , 0\n",
    "\n",
    "while i < 11:  # 0만 아니면 다 True\n",
    "    sum = sum + i\n",
    "    i = i + 1\n",
    "    \n",
    "sum"
   ]
  },
  {
   "cell_type": "code",
   "execution_count": 36,
   "id": "d38f2669",
   "metadata": {},
   "outputs": [
    {
     "name": "stdout",
     "output_type": "stream",
     "text": [
      "1 + 4 = 5\n",
      "2 + 5 = 7\n",
      "2 + 2 = 4\n",
      "4 + 1 = 5\n",
      "0을 입력해 반복문을 탈출했습니다\n"
     ]
    }
   ],
   "source": [
    "hap = 0\n",
    "a, b = 0, 0\n",
    "\n",
    "while True:\n",
    "    a = int(input(\"더할 첫 번째 수를 입력: \"))\n",
    "    if(a == 0):\n",
    "        break\n",
    "    b = int(input(\"더할 두 번쟤 수 입력:\"))\n",
    "    \n",
    "    if(b == 0):\n",
    "        break\n",
    "    \n",
    "    hap = a + b\n",
    "    print(\"%d + %d = %d\" % (a,b,hap))\n",
    "    \n",
    "print('0을 입력해 반복문을 탈출했습니다')"
   ]
  },
  {
   "cell_type": "code",
   "execution_count": 38,
   "id": "1f2e13ab",
   "metadata": {},
   "outputs": [
    {
     "name": "stdout",
     "output_type": "stream",
     "text": [
      "1~100의 합계를 최초로 1000이 넘게 하는 숫자: 46\n"
     ]
    }
   ],
   "source": [
    "hap, i = 0, 0\n",
    "\n",
    "while i < 101:\n",
    "    hap += i\n",
    "    i += 1\n",
    "    if hap >= 1000:\n",
    "        break\n",
    "    \n",
    "print('1~100의 합계를 최초로 1000이 넘게 하는 숫자: %d' % i)"
   ]
  }
 ],
 "metadata": {
  "kernelspec": {
   "display_name": "base",
   "language": "python",
   "name": "python3"
  },
  "language_info": {
   "codemirror_mode": {
    "name": "ipython",
    "version": 3
   },
   "file_extension": ".py",
   "mimetype": "text/x-python",
   "name": "python",
   "nbconvert_exporter": "python",
   "pygments_lexer": "ipython3",
   "version": "3.13.5"
  }
 },
 "nbformat": 4,
 "nbformat_minor": 5
}
