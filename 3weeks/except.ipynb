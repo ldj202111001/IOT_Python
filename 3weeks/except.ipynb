{
 "cells": [
  {
   "cell_type": "code",
   "execution_count": 2,
   "id": "99beea6c",
   "metadata": {},
   "outputs": [
    {
     "name": "stdout",
     "output_type": "stream",
     "text": [
      "에러발생 원인 name 'dwadwaw' is not defined\n"
     ]
    }
   ],
   "source": [
    "try:\n",
    "    dwadwaw\n",
    "except Exception as e:\n",
    "    print(\"에러발생 원인\", e)\n"
   ]
  },
  {
   "cell_type": "markdown",
   "id": "070132db",
   "metadata": {},
   "source": [
    "함수 무엇을 넣으면 어떤 것으 돌려줌\n",
    "메서드와의 차이점 함수는 외부에 별도로 존재 메소드는 클래스 안에 존대"
   ]
  },
  {
   "cell_type": "code",
   "execution_count": 7,
   "id": "ca49fba8",
   "metadata": {},
   "outputs": [
    {
     "name": "stdout",
     "output_type": "stream",
     "text": [
      "\n",
      "#1. (자동으로) 뜨거운 물을 준비한다.\n",
      "#2. (자동으로) 종이컵을 준비한다.\n",
      "#3. (자동으로) 블랙 커피를 탄다\n",
      "#4. (자동으로) 물을 붓는다.\n",
      "#5. (자동으로) 스푼으로 젓는다.\n",
      "\n",
      "여기 커피 있습니다.\n"
     ]
    }
   ],
   "source": [
    "coffee = 0\n",
    "\n",
    "def coffee_machine(button):\n",
    "    print()\n",
    "    print('#1. (자동으로) 뜨거운 물을 준비한다.')\n",
    "    print('#2. (자동으로) 종이컵을 준비한다.')\n",
    "    \n",
    "    if button == 1:\n",
    "        print(\"#3. (자동으로) 보통 커피를 탄다\")\n",
    "    elif button == 2:\n",
    "        print(\"#3. (자동으로) 설탕 커피를 탄다\")\n",
    "    elif button == 3:\n",
    "        print(\"#3. (자동으로) 블랙 커피를 탄다\")\n",
    "    else:\n",
    "        print(\"#3. (자동으로) 아무거나 탄다\")\n",
    "        \n",
    "    print(\"#4. (자동으로) 물을 붓는다.\")\n",
    "    print(\"#5. (자동으로) 스푼으로 젓는다.\")\n",
    "    print()\n",
    "    \n",
    "coffee = int(input(\"어떤 커피 드릴까요?(1: 보통, 2: 설탕, 3: 블랙)\"))\n",
    "coffee_machine(coffee)\n",
    "print(\"여기 커피 있습니다.\")"
   ]
  },
  {
   "cell_type": "code",
   "execution_count": 8,
   "id": "da58809c",
   "metadata": {},
   "outputs": [
    {
     "name": "stdout",
     "output_type": "stream",
     "text": [
      "func1()에서 a값 10\n",
      "예외처리\n"
     ]
    }
   ],
   "source": [
    "def func1():\n",
    "    a = 10\n",
    "    print(\"func1()에서 a값 %d\" % a)\n",
    "\n",
    "def func2():\n",
    "    try: \n",
    "        print(\"func2()에서 a값 %d\" % a)\n",
    "    except:\n",
    "        print(\"예외처리\")\n",
    "\n",
    "func1()\n",
    "func2()"
   ]
  },
  {
   "cell_type": "code",
   "execution_count": 9,
   "id": "caca9831",
   "metadata": {},
   "outputs": [
    {
     "name": "stdout",
     "output_type": "stream",
     "text": [
      "func1()에서 a값 10\n",
      "예외처리\n"
     ]
    }
   ],
   "source": [
    "def func1():\n",
    "    a = 10\n",
    "    print(\"func1()에서 a값 %d\" % a)\n",
    "\n",
    "def func2():\n",
    "    print(\"func2()에서 a값 %d\" % a)\n",
    "\n",
    "func1()\n",
    "try:\n",
    "    func2()\n",
    "except:\n",
    "    print(\"예외처리\")\n"
   ]
  },
  {
   "cell_type": "code",
   "execution_count": null,
   "id": "3edf17e4",
   "metadata": {},
   "outputs": [],
   "source": [
    "def func1():\n",
    "    global a\n",
    "    a = 10\n",
    "    print(\"func1()에서 a값 %d\" % a)\n",
    "\n",
    "def func2():\n",
    "    print(\"func2()에서 a값 %d\" % a)\n",
    "    \n",
    "a = 20\n",
    "\n",
    "func1()\n",
    "try:\n",
    "    func2()\n",
    "except:\n",
    "    print(\"예외처리\")"
   ]
  },
  {
   "cell_type": "markdown",
   "id": "a30f0d82",
   "metadata": {},
   "source": [
    "오버로딩: 함수명이 같아도 매개타입과 개수가 다르다면 다른 함수"
   ]
  },
  {
   "cell_type": "code",
   "execution_count": null,
   "id": "90a0f7f6",
   "metadata": {},
   "outputs": [
    {
     "ename": "TypeError",
     "evalue": "plus() missing 1 required positional argument: 'v3'",
     "output_type": "error",
     "traceback": [
      "\u001b[1;31m---------------------------------------------------------------------------\u001b[0m",
      "\u001b[1;31mTypeError\u001b[0m                                 Traceback (most recent call last)",
      "Cell \u001b[1;32mIn[11], line 11\u001b[0m\n\u001b[0;32m      8\u001b[0m b \u001b[38;5;241m=\u001b[39m \u001b[38;5;241m2\u001b[39m\n\u001b[0;32m      9\u001b[0m c \u001b[38;5;241m=\u001b[39m \u001b[38;5;241m3\u001b[39m\n\u001b[1;32m---> 11\u001b[0m plus(a, b)\n\u001b[0;32m     12\u001b[0m plus(a, b, c)\n",
      "\u001b[1;31mTypeError\u001b[0m: plus() missing 1 required positional argument: 'v3'"
     ]
    }
   ],
   "source": [
    "def plus(v1, v2):\n",
    "    return v1 + v2\n",
    "\n",
    "def plus(v1, v2, v3):\n",
    "    return v1 + v2 + v3\n",
    "\n",
    "a = 1\n",
    "b = 2\n",
    "c = 3\n",
    "\n",
    "plus(a, b)\n",
    "plus(a, b, c)\n",
    "\n",
    "# 파이썬은 원칙적으로 오버로딩이 안된다. (라이브러리, 다른방법 으로는 가능)"
   ]
  },
  {
   "cell_type": "markdown",
   "id": "91163c6c",
   "metadata": {},
   "source": [
    "가변 매개변수"
   ]
  },
  {
   "cell_type": "code",
   "execution_count": 12,
   "id": "22c6536b",
   "metadata": {},
   "outputs": [
    {
     "name": "stdout",
     "output_type": "stream",
     "text": [
      "매개변수가 2개인 함수를 호출한 결과 ==> 30\n",
      "매개변수가 3개인 함수를 호출한 결과 ==> 60\n"
     ]
    }
   ],
   "source": [
    "def para_func (*para):\n",
    "    result = 0\n",
    "    for num in para:\n",
    "        result = result + num\n",
    "    return result\n",
    "\n",
    "hap = 0\n",
    "\n",
    "hap = para_func(10, 20)\n",
    "print('매개변수가 2개인 함수를 호출한 결과 ==> %d' %hap)\n",
    "hap = para_func(10, 20, 30)\n",
    "print('매개변수가 3개인 함수를 호출한 결과 ==> %d' %hap)"
   ]
  },
  {
   "cell_type": "markdown",
   "id": "8c654c43",
   "metadata": {},
   "source": [
    "로또 번호 추첨"
   ]
  },
  {
   "cell_type": "code",
   "execution_count": 116,
   "id": "764c005a",
   "metadata": {},
   "outputs": [
    {
     "name": "stdout",
     "output_type": "stream",
     "text": [
      "** 로또 추첨을 시작합니다 **\n",
      "추첨된 로또 번호 [15, 6, 68, 33, 23, 82]\n"
     ]
    }
   ],
   "source": [
    "import random\n",
    "\n",
    "def lottery():\n",
    "    n_list = []\n",
    "    size = 7\n",
    "    while True:\n",
    "        num = random.randrange(1,100)\n",
    "        if n_list.count(num) == 0:\n",
    "            n_list.append(num)\n",
    "            \n",
    "        if len(n_list) >= 6:\n",
    "            break;\n",
    "        \n",
    "    return n_list\n",
    "\n",
    "lottery_list = []\n",
    "lottery_list = lottery()\n",
    "\n",
    "print('** 로또 추첨을 시작합니다 **')\n",
    "\n",
    "print(f\"추첨된 로또 번호 {lottery_list}\")\n",
    "\n",
    "\n",
    "# if n_list.count(num) == 0\n",
    "   # n_list.append(num)"
   ]
  },
  {
   "cell_type": "markdown",
   "id": "e421ef3b",
   "metadata": {},
   "source": [
    "from 모듈명 import 함수1, 함수2, 함수3  \n",
    "ex PYgame?"
   ]
  },
  {
   "cell_type": "code",
   "execution_count": 117,
   "id": "95458c39",
   "metadata": {},
   "outputs": [
    {
     "data": {
      "text/plain": [
       "['BPF',\n",
       " 'LOG4',\n",
       " 'NV_MAGICCONST',\n",
       " 'RECIP_BPF',\n",
       " 'Random',\n",
       " 'SG_MAGICCONST',\n",
       " 'SystemRandom',\n",
       " 'TWOPI',\n",
       " '_ONE',\n",
       " '_Sequence',\n",
       " '__all__',\n",
       " '__builtins__',\n",
       " '__cached__',\n",
       " '__doc__',\n",
       " '__file__',\n",
       " '__loader__',\n",
       " '__name__',\n",
       " '__package__',\n",
       " '__spec__',\n",
       " '_accumulate',\n",
       " '_acos',\n",
       " '_bisect',\n",
       " '_ceil',\n",
       " '_cos',\n",
       " '_e',\n",
       " '_exp',\n",
       " '_fabs',\n",
       " '_floor',\n",
       " '_index',\n",
       " '_inst',\n",
       " '_isfinite',\n",
       " '_lgamma',\n",
       " '_log',\n",
       " '_log2',\n",
       " '_os',\n",
       " '_parse_args',\n",
       " '_pi',\n",
       " '_random',\n",
       " '_repeat',\n",
       " '_sha512',\n",
       " '_sin',\n",
       " '_sqrt',\n",
       " '_test',\n",
       " '_test_generator',\n",
       " '_urandom',\n",
       " 'betavariate',\n",
       " 'binomialvariate',\n",
       " 'choice',\n",
       " 'choices',\n",
       " 'expovariate',\n",
       " 'gammavariate',\n",
       " 'gauss',\n",
       " 'getrandbits',\n",
       " 'getstate',\n",
       " 'lognormvariate',\n",
       " 'main',\n",
       " 'normalvariate',\n",
       " 'paretovariate',\n",
       " 'randbytes',\n",
       " 'randint',\n",
       " 'random',\n",
       " 'randrange',\n",
       " 'sample',\n",
       " 'seed',\n",
       " 'setstate',\n",
       " 'shuffle',\n",
       " 'triangular',\n",
       " 'uniform',\n",
       " 'vonmisesvariate',\n",
       " 'weibullvariate']"
      ]
     },
     "execution_count": 117,
     "metadata": {},
     "output_type": "execute_result"
    }
   ],
   "source": [
    "dir(random)"
   ]
  },
  {
   "cell_type": "code",
   "execution_count": null,
   "id": "318e3504",
   "metadata": {},
   "outputs": [
    {
     "name": "stdout",
     "output_type": "stream",
     "text": [
      "hello\n",
      "hi\n",
      "hello\n",
      "hi\n"
     ]
    }
   ],
   "source": [
    "class Greet():\n",
    "    def hello(self):\n",
    "        print(\"hello\")\n",
    "    def hi(self):\n",
    "        print(\"hi\")\n",
    "\n",
    "human1 = Greet()\n",
    "human2 = Greet()\n",
    "human1.hello()\n",
    "human1.hi()\n",
    "human2.hello()\n",
    "human2.hi()\n"
   ]
  },
  {
   "cell_type": "markdown",
   "id": "0ec33ded",
   "metadata": {},
   "source": [
    "주석 다는법: (드래그후) ctrl + /  \n",
    "해제도 동일"
   ]
  },
  {
   "cell_type": "code",
   "execution_count": null,
   "id": "0cf48a3a",
   "metadata": {},
   "outputs": [
    {
     "name": "stdout",
     "output_type": "stream",
     "text": [
      "56\n"
     ]
    }
   ],
   "source": [
    "from random import * # 메소드를 다 갖고옴\n",
    "print(randint(1,100))"
   ]
  }
 ],
 "metadata": {
  "kernelspec": {
   "display_name": "base",
   "language": "python",
   "name": "python3"
  },
  "language_info": {
   "codemirror_mode": {
    "name": "ipython",
    "version": 3
   },
   "file_extension": ".py",
   "mimetype": "text/x-python",
   "name": "python",
   "nbconvert_exporter": "python",
   "pygments_lexer": "ipython3",
   "version": "3.13.5"
  }
 },
 "nbformat": 4,
 "nbformat_minor": 5
}
