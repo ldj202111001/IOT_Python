{
 "cells": [
  {
   "cell_type": "code",
   "execution_count": 2,
   "id": "99beea6c",
   "metadata": {},
   "outputs": [
    {
     "name": "stdout",
     "output_type": "stream",
     "text": [
      "에러발생 원인 name 'dwadwaw' is not defined\n"
     ]
    }
   ],
   "source": [
    "try:\n",
    "    dwadwaw\n",
    "except Exception as e:\n",
    "    print(\"에러발생 원인\", e)\n"
   ]
  },
  {
   "cell_type": "markdown",
   "id": "070132db",
   "metadata": {},
   "source": [
    "함수 무엇을 넣으면 어떤 것으 돌려줌\n",
    "메서드와의 차이점 함수는 외부에 별도로 존재 메소드는 클래스 안에 존대"
   ]
  },
  {
   "cell_type": "code",
   "execution_count": 7,
   "id": "ca49fba8",
   "metadata": {},
   "outputs": [
    {
     "name": "stdout",
     "output_type": "stream",
     "text": [
      "\n",
      "#1. (자동으로) 뜨거운 물을 준비한다.\n",
      "#2. (자동으로) 종이컵을 준비한다.\n",
      "#3. (자동으로) 블랙 커피를 탄다\n",
      "#4. (자동으로) 물을 붓는다.\n",
      "#5. (자동으로) 스푼으로 젓는다.\n",
      "\n",
      "여기 커피 있습니다.\n"
     ]
    }
   ],
   "source": [
    "coffee = 0\n",
    "\n",
    "def coffee_machine(button):\n",
    "    print()\n",
    "    print('#1. (자동으로) 뜨거운 물을 준비한다.')\n",
    "    print('#2. (자동으로) 종이컵을 준비한다.')\n",
    "    \n",
    "    if button == 1:\n",
    "        print(\"#3. (자동으로) 보통 커피를 탄다\")\n",
    "    elif button == 2:\n",
    "        print(\"#3. (자동으로) 설탕 커피를 탄다\")\n",
    "    elif button == 3:\n",
    "        print(\"#3. (자동으로) 블랙 커피를 탄다\")\n",
    "    else:\n",
    "        print(\"#3. (자동으로) 아무거나 탄다\")\n",
    "        \n",
    "    print(\"#4. (자동으로) 물을 붓는다.\")\n",
    "    print(\"#5. (자동으로) 스푼으로 젓는다.\")\n",
    "    print()\n",
    "    \n",
    "coffee = int(input(\"어떤 커피 드릴까요?(1: 보통, 2: 설탕, 3: 블랙)\"))\n",
    "coffee_machine(coffee)\n",
    "print(\"여기 커피 있습니다.\")"
   ]
  }
 ],
 "metadata": {
  "kernelspec": {
   "display_name": "base",
   "language": "python",
   "name": "python3"
  },
  "language_info": {
   "codemirror_mode": {
    "name": "ipython",
    "version": 3
   },
   "file_extension": ".py",
   "mimetype": "text/x-python",
   "name": "python",
   "nbconvert_exporter": "python",
   "pygments_lexer": "ipython3",
   "version": "3.13.5"
  }
 },
 "nbformat": 4,
 "nbformat_minor": 5
}
